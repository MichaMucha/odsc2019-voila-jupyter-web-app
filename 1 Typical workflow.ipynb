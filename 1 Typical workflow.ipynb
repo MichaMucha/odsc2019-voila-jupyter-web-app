{
 "cells": [
  {
   "cell_type": "markdown",
   "metadata": {},
   "source": [
    "# Example financial decision:\n",
    "\n",
    "> **Whether to commit to owning a home & what does this entail**"
   ]
  },
  {
   "cell_type": "markdown",
   "metadata": {},
   "source": [
    "Stakeholders - K&J\n",
    "\n",
    "## Question space\n",
    "\n",
    "> What is the wealth outcome over time?  \n",
    "> What is the cashflow commitment?  \n",
    "> What do the numbers mean with the QE shenanigans in play?  \n",
    "> What scenarios are we looking at?  \n",
    "> How does letting affect the calculation?  \n",
    "> By when are we in the money, in real terms?  \n",
    "> What do exit options look like over the years?  "
   ]
  },
  {
   "cell_type": "code",
   "execution_count": null,
   "metadata": {},
   "outputs": [],
   "source": [
    "import pandas as pd\n",
    "import numpy as np\n",
    "import datetime\n",
    "\n",
    "pd.set_option('plotting.backend', 'pandas_bokeh')\n",
    "pd.plotting.output_notebook()\n",
    "\n",
    "from bokeh.models.formatters import NumeralTickFormatter, PrintfTickFormatter\n",
    "from bokeh.plotting import show"
   ]
  },
  {
   "cell_type": "markdown",
   "metadata": {},
   "source": [
    "## Example listing details"
   ]
  },
  {
   "cell_type": "code",
   "execution_count": null,
   "metadata": {},
   "outputs": [],
   "source": [
    "price, property_name, location, photo = (\n",
    "    250_000, \n",
    "    'Pretty home', \n",
    "    'Richmond, Surrey', \n",
    "    'https://unsplash.com/home.png')"
   ]
  },
  {
   "cell_type": "markdown",
   "metadata": {},
   "source": [
    "### Mortgage calculation"
   ]
  },
  {
   "cell_type": "code",
   "execution_count": null,
   "metadata": {},
   "outputs": [],
   "source": [
    "# mortgage calculation\n",
    "# (price, downpayment, rate, term, interest-only) -> time series of debt balance, time series of accumulated payments\n",
    "\n",
    "def mortgage(price:int, downpayment:int, rate:float, term_years:int, interest_only=False) -> pd.DataFrame:\n",
    "    \n",
    "    principal = price - downpayment\n",
    "    rate = rate / 12\n",
    "    term = term_years * 12\n",
    "    periods = np.arange(term) + 1\n",
    "    \n",
    "    if not interest_only:\n",
    "        full_payments = np.pmt(rate, term, principal) * np.ones_like(periods)\n",
    "        principal_payments = np.ppmt(rate, periods, term, principal)\n",
    "        interest_payments = np.ipmt(rate, periods, term, principal)\n",
    "    else:\n",
    "        full_payments = (principal * rate) * -np.ones_like(periods)\n",
    "        principal_payments = np.zeros_like(periods)\n",
    "        interest_payments = full_payments\n",
    "        \n",
    "    debt_balance = (principal + principal_payments.cumsum()).round(2)\n",
    "    \n",
    "    return pd.DataFrame(\n",
    "        data=np.array([debt_balance, full_payments, principal_payments, interest_payments]).T,\n",
    "        columns='debt_balance, full_payments, principal_payments, interest_payments'.split(', '),\n",
    "        index=pd.date_range(start=datetime.date.today(), periods=term, freq='M')\n",
    "    )\n",
    "\n",
    "mortgage(price, 0, 0.04, 30)"
   ]
  },
  {
   "cell_type": "markdown",
   "metadata": {},
   "source": [
    "### Annualized mortgage cash flow"
   ]
  },
  {
   "cell_type": "code",
   "execution_count": null,
   "metadata": {},
   "outputs": [],
   "source": [
    "mortgage(price, 0, 0.04, 25).resample('Y')['full_payments'].sum()"
   ]
  },
  {
   "cell_type": "markdown",
   "metadata": {},
   "source": [
    "### Home value appreciation"
   ]
  },
  {
   "cell_type": "code",
   "execution_count": null,
   "metadata": {},
   "outputs": [],
   "source": [
    "def home_value(price:int, growth_rate:float, term_years:int) -> pd.Series:\n",
    "    periods = np.arange(term_years)\n",
    "    value = np.fv(growth_rate, periods, 0, -price)\n",
    "    return pd.Series(\n",
    "        name='home_value',\n",
    "        data=value,\n",
    "        index=pd.date_range(start=datetime.date.today(), periods=term_years, freq='Y')\n",
    "    )"
   ]
  },
  {
   "cell_type": "code",
   "execution_count": null,
   "metadata": {},
   "outputs": [],
   "source": [
    "# optional letting cash flow -> time series of cash payments\n",
    "def letting_cash_flow(monthly_rate:int, term_years:int, growth_rate:float, vacancy_rate:float=2/12) -> pd.Series:\n",
    "    periods = np.arange(term_years)\n",
    "    value = np.fv(growth_rate, periods, 0, -1) * monthly_rate * (1-vacancy_rate)\n",
    "    return pd.Series(\n",
    "        name='rental_income',\n",
    "        data=value,\n",
    "        index=pd.date_range(start=datetime.date.today(), periods=term_years, freq='Y')\n",
    "    )"
   ]
  },
  {
   "cell_type": "code",
   "execution_count": null,
   "metadata": {},
   "outputs": [],
   "source": [
    "home_value(price, 0.01, 15)"
   ]
  },
  {
   "cell_type": "code",
   "execution_count": null,
   "metadata": {},
   "outputs": [],
   "source": [
    "letting_cash_flow(1250, 25, .02)"
   ]
  },
  {
   "cell_type": "markdown",
   "metadata": {},
   "source": [
    "## Step 1: Scenario - investment outcomes"
   ]
  },
  {
   "cell_type": "code",
   "execution_count": null,
   "metadata": {},
   "outputs": [],
   "source": [
    "# Parameters:\n",
    "transaction_cost = 0.05 * price\n",
    "downpayment = 0.05 * price \n",
    "years = 25\n",
    "inflation = .018\n",
    "inflation_houseprice = 0.2\n",
    "rate_mortgage = 0.135\n",
    "rental_rate = 0\n",
    "interest_only = False\n",
    "\n",
    "print('## Scenario')\n",
    "print('House price: £', price)\n",
    "print('transaction_cost: £', transaction_cost)\n",
    "print('downpayment: £', downpayment)\n",
    "print('term (years)', years)\n",
    "print(f'inflation {100*inflation:.2f}%')\n",
    "print(f'house price appreciation: {100*inflation_houseprice:.2f}%')\n",
    "print(f'rate_mortgage: {100*rate_mortgage:.2f}%')\n",
    "print('monthly rental income:', 0)\n",
    "print('interest-only:', interest_only)"
   ]
  },
  {
   "cell_type": "code",
   "execution_count": null,
   "metadata": {},
   "outputs": [],
   "source": [
    "# Schedule and outcomes over time\n",
    "\n",
    "loan_schedule = mortgage(price, downpayment, rate_mortgage, years, interest_only=interest_only)\n",
    "debt_balance = loan_schedule.debt_balance.resample('Y').last()\n",
    "interest_paid = loan_schedule.interest_payments.resample('Y').sum().cumsum()\n",
    "\n",
    "# Home value and letting income\n",
    "home = home_value(price, inflation_houseprice, years)\n",
    "letting_income = letting_cash_flow(rental_rate, years, inflation).cumsum()\n",
    "\n",
    "# Actual cash flow\n",
    "cash_flow = (\n",
    "    loan_schedule.full_payments.resample('Y').sum()\n",
    "    + letting_income\n",
    ")\n",
    "cash_flow.iloc[0] -= transaction_cost\n",
    "cash_flow.iloc[0] -= downpayment\n",
    "cash_flow = cash_flow.cumsum()\n",
    "\n",
    "# Real situation\n",
    "wealth = home + letting_income - downpayment - debt_balance - transaction_cost"
   ]
  },
  {
   "cell_type": "code",
   "execution_count": null,
   "metadata": {},
   "outputs": [],
   "source": [
    "wealth"
   ]
  },
  {
   "cell_type": "code",
   "execution_count": null,
   "metadata": {},
   "outputs": [],
   "source": [
    "cash_flow"
   ]
  },
  {
   "cell_type": "code",
   "execution_count": null,
   "metadata": {},
   "outputs": [],
   "source": [
    "# discounted value at time T - discounting by inflation\n",
    "\n",
    "df = pd.DataFrame(\n",
    "    data = [debt_balance, interest_paid, cash_flow, wealth],\n",
    "    index = 'debt_balance, interest_payments, cash_flow, wealth'.split(', ')\n",
    ").T.dropna()\n",
    "\n",
    "discounting_factor = np.pv(inflation, np.arange(len(df)), 0, fv=-1)\n",
    "df = df.mul(discounting_factor, axis=0)"
   ]
  },
  {
   "cell_type": "markdown",
   "metadata": {},
   "source": [
    "## Outcomes chart"
   ]
  },
  {
   "cell_type": "code",
   "execution_count": null,
   "metadata": {},
   "outputs": [],
   "source": [
    "p = df.plot(kind='line', \n",
    "            show_figure=False,\n",
    "            toolbar_location=None,\n",
    "            panning=False,\n",
    "            zooming=False,\n",
    "            plot_data_points=True,\n",
    "            plot_data_points_size=5\n",
    "           )\n",
    "p.hover.tooltips = [('year', '$index')] + list(\n",
    "    (c, f'£@{c}'+'{0,0}')\n",
    "for c in df.columns)\n",
    "p.hover.mode='mouse'\n",
    "p.yaxis[0].formatter = NumeralTickFormatter(format='£0,0')\n",
    "p.xaxis.major_label_orientation = 3.14/5\n",
    "p.legend.location = \"top_left\"\n",
    "# p.yaxis[0].formatter.use_scientific = False\n",
    "show(p)"
   ]
  },
  {
   "cell_type": "markdown",
   "metadata": {},
   "source": [
    "## Wealth chart"
   ]
  },
  {
   "cell_type": "code",
   "execution_count": null,
   "metadata": {},
   "outputs": [],
   "source": [
    "p = (df.wealth + df.cash_flow).rename('Net wealth').plot.line(\n",
    "    show_figure=False,\n",
    "    toolbar_location=None,\n",
    "    hovertool_string=r\"\"\"<h4> Net wealth: </h4> £@{Net wealth}{0,0}\"\"\",\n",
    "    panning=False,\n",
    "    zooming=False\n",
    ")\n",
    "p.yaxis[0].formatter = NumeralTickFormatter(format='$0,0')\n",
    "p.xaxis.major_label_orientation = 3.14/5\n",
    "p.legend.location = \"top_left\"\n",
    "show(p)"
   ]
  },
  {
   "cell_type": "markdown",
   "metadata": {},
   "source": [
    "## Outcomes chart in `pygal`"
   ]
  },
  {
   "cell_type": "code",
   "execution_count": null,
   "metadata": {},
   "outputs": [],
   "source": [
    "from IPython.display import HTML\n",
    "import pygal"
   ]
  },
  {
   "cell_type": "code",
   "execution_count": null,
   "metadata": {},
   "outputs": [],
   "source": [
    "line_chart = pygal.Line(dynamic_print_values=True, value_formatter=lambda x: f'£{x:,.0f}')\n",
    "line_chart.title = 'Investment Outcomes:'\n",
    "line_chart.x_labels = map(str, range(0, years+1))\n",
    "\n",
    "line_chart = pygal.Line(dynamic_print_values=True, value_formatter=lambda x: f'£{x:,.0f}')\n",
    "for c in df.columns:\n",
    "    line_chart.add(c, df[c])\n",
    "\n",
    "pygal_script = '<script type=\"text/javascript\" src=\"http://kozea.github.com/pygal.js/latest/pygal-tooltips.min.js\"></script>'\n",
    "HTML(line_chart.render(is_unicode=True)+pygal_script)"
   ]
  },
  {
   "cell_type": "markdown",
   "metadata": {},
   "source": [
    "## Outcomes chart in `altair`"
   ]
  },
  {
   "cell_type": "code",
   "execution_count": null,
   "metadata": {},
   "outputs": [],
   "source": [
    "import altair as alt\n",
    "alt.renderers.enable('notebook')"
   ]
  },
  {
   "cell_type": "code",
   "execution_count": null,
   "metadata": {},
   "outputs": [],
   "source": [
    "altair_format_df = (\n",
    "    df.reset_index()\n",
    "    .melt('index', var_name='Factor', value_name='Amount')\n",
    "    .rename(columns={'index':'Year'}))"
   ]
  },
  {
   "cell_type": "code",
   "execution_count": null,
   "metadata": {},
   "outputs": [],
   "source": [
    "alt.Chart(altair_format_df).mark_line(size=7, point=True).encode(\n",
    "    x='Year:T',\n",
    "    y='Amount:Q',\n",
    "    color='Factor', \n",
    "    tooltip=[\n",
    "        'Year:T', 'Factor:N', \n",
    "        alt.Tooltip('Amount:Q', format='$,.2f')]\n",
    ").interactive()\n"
   ]
  },
  {
   "cell_type": "code",
   "execution_count": null,
   "metadata": {},
   "outputs": [],
   "source": [
    "alt.Chart(altair_format_df.query('Factor == \"wealth\"')).mark_area(opacity=0.4).encode(\n",
    "    x='Year:T',\n",
    "    y=alt.Y('Amount:Q', stack=None),\n",
    "    color='Factor'\n",
    ")"
   ]
  },
  {
   "cell_type": "markdown",
   "metadata": {},
   "source": [
    "# Step 2: Turn it into a callable\n",
    "\n",
    "Our intention is to examine multiple scenarios!"
   ]
  },
  {
   "cell_type": "code",
   "execution_count": null,
   "metadata": {},
   "outputs": [],
   "source": [
    "from download_listing import get_listing\n",
    "from mortgage import mortgage\n",
    "from home_value import home_value, letting_cash_flow\n",
    "\n",
    "from charts import altair_outcomes_chart, pygal_outcomes_chart, altair_wealth_chart, altair_format"
   ]
  },
  {
   "cell_type": "code",
   "execution_count": null,
   "metadata": {},
   "outputs": [],
   "source": [
    "def scenario(\n",
    "        price=250_000,\n",
    "        transaction_cost = 0.05,\n",
    "        downpayment = 0.05,\n",
    "        years = 25,\n",
    "        inflation = .018,\n",
    "        inflation_houseprice = 0.045,\n",
    "        rate_mortgage = 0.035,\n",
    "        rental_rate = 0,\n",
    "        interest_only = False\n",
    "        ):\n",
    "    # ...\n",
    "    return \"result\""
   ]
  },
  {
   "cell_type": "code",
   "execution_count": null,
   "metadata": {},
   "outputs": [],
   "source": [
    "scenario(price=1_000_000, years=20, inflation=.1)"
   ]
  },
  {
   "cell_type": "markdown",
   "metadata": {},
   "source": [
    "# Step 3: Make it interactive"
   ]
  },
  {
   "cell_type": "code",
   "execution_count": null,
   "metadata": {},
   "outputs": [],
   "source": [
    "from ipywidgets import interact"
   ]
  },
  {
   "cell_type": "code",
   "execution_count": null,
   "metadata": {},
   "outputs": [],
   "source": [
    "interact(scenario)"
   ]
  },
  {
   "cell_type": "code",
   "execution_count": null,
   "metadata": {},
   "outputs": [],
   "source": []
  }
 ],
 "metadata": {
  "kernelspec": {
   "display_name": "Python 3",
   "language": "python",
   "name": "python3"
  },
  "language_info": {
   "codemirror_mode": {
    "name": "ipython",
    "version": 3
   },
   "file_extension": ".py",
   "mimetype": "text/x-python",
   "name": "python",
   "nbconvert_exporter": "python",
   "pygments_lexer": "ipython3",
   "version": "3.7.4"
  }
 },
 "nbformat": 4,
 "nbformat_minor": 4
}
